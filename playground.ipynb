{
 "cells": [
  {
   "cell_type": "code",
   "execution_count": 1,
   "id": "bc8c9ed1",
   "metadata": {},
   "outputs": [],
   "source": [
    "import numpy as np\n",
    "import utility"
   ]
  },
  {
   "cell_type": "code",
   "execution_count": 2,
   "id": "a4136b5f",
   "metadata": {},
   "outputs": [],
   "source": [
    "actions = [1,2,3]"
   ]
  },
  {
   "cell_type": "code",
   "execution_count": 3,
   "id": "6ecd94c9",
   "metadata": {},
   "outputs": [
    {
     "data": {
      "text/plain": [
       "1"
      ]
     },
     "execution_count": 3,
     "metadata": {},
     "output_type": "execute_result"
    }
   ],
   "source": [
    "np.random.choice(actions, p=np.array([0.5,0.5,0]))"
   ]
  },
  {
   "cell_type": "code",
   "execution_count": 4,
   "id": "227e0199",
   "metadata": {},
   "outputs": [
    {
     "data": {
      "text/plain": [
       "array([[0.1078, 0.1078, 0.7844],\n",
       "       [0.154 , 0.154 , 0.692 ],\n",
       "       [0.2002, 0.2002, 0.5996]])"
      ]
     },
     "execution_count": 4,
     "metadata": {},
     "output_type": "execute_result"
    }
   ],
   "source": [
    "alpha = 1.3\n",
    "p = 0.154\n",
    "beta = 2-alpha \n",
    "probs = np.zeros((3,3))\n",
    "probs[0] = np.array([p*beta,p*beta,(1-2*p*beta)])\n",
    "probs[1] = np.array([p,p,(1-2*p)])\n",
    "probs[2] = np.array([p*alpha,p*alpha,(1-2*p*alpha)])\n",
    "probs"
   ]
  },
  {
   "cell_type": "code",
   "execution_count": 5,
   "id": "f2972522",
   "metadata": {},
   "outputs": [],
   "source": [
    "x=np.random.rand(50)"
   ]
  },
  {
   "cell_type": "code",
   "execution_count": 11,
   "id": "9ad0d6d2",
   "metadata": {},
   "outputs": [
    {
     "data": {
      "text/plain": [
       "2"
      ]
     },
     "execution_count": 11,
     "metadata": {},
     "output_type": "execute_result"
    }
   ],
   "source": [
    "5//2"
   ]
  },
  {
   "cell_type": "code",
   "execution_count": 7,
   "id": "b50ee8d1",
   "metadata": {},
   "outputs": [
    {
     "ename": "IndexError",
     "evalue": "index -51 is out of bounds for axis 0 with size 50",
     "output_type": "error",
     "traceback": [
      "\u001b[1;31m---------------------------------------------------------------------------\u001b[0m",
      "\u001b[1;31mIndexError\u001b[0m                                Traceback (most recent call last)",
      "\u001b[1;32m<ipython-input-7-cdec1b2cc6b3>\u001b[0m in \u001b[0;36m<module>\u001b[1;34m\u001b[0m\n\u001b[1;32m----> 1\u001b[1;33m \u001b[0mx\u001b[0m\u001b[1;33m[\u001b[0m\u001b[1;33m-\u001b[0m\u001b[1;36m51\u001b[0m\u001b[1;33m]\u001b[0m\u001b[1;33m\u001b[0m\u001b[1;33m\u001b[0m\u001b[0m\n\u001b[0m",
      "\u001b[1;31mIndexError\u001b[0m: index -51 is out of bounds for axis 0 with size 50"
     ]
    }
   ],
   "source": [
    "x[-51]"
   ]
  },
  {
   "cell_type": "code",
   "execution_count": 16,
   "id": "81c9eaf5",
   "metadata": {},
   "outputs": [
    {
     "data": {
      "text/plain": [
       "array([1., 0.])"
      ]
     },
     "execution_count": 16,
     "metadata": {},
     "output_type": "execute_result"
    }
   ],
   "source": [
    "np.floor(np.random.rand(2)*2)"
   ]
  },
  {
   "cell_type": "code",
   "execution_count": 22,
   "id": "6f79f829",
   "metadata": {},
   "outputs": [
    {
     "data": {
      "text/plain": [
       "1"
      ]
     },
     "execution_count": 22,
     "metadata": {},
     "output_type": "execute_result"
    }
   ],
   "source": [
    "np.random.randint(0,2)"
   ]
  },
  {
   "cell_type": "code",
   "execution_count": null,
   "id": "d0bf3ed7",
   "metadata": {},
   "outputs": [],
   "source": []
  }
 ],
 "metadata": {
  "kernelspec": {
   "display_name": "Python 3",
   "language": "python",
   "name": "python3"
  },
  "language_info": {
   "codemirror_mode": {
    "name": "ipython",
    "version": 3
   },
   "file_extension": ".py",
   "mimetype": "text/x-python",
   "name": "python",
   "nbconvert_exporter": "python",
   "pygments_lexer": "ipython3",
   "version": "3.8.8"
  }
 },
 "nbformat": 4,
 "nbformat_minor": 5
}
