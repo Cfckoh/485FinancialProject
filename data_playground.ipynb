{
 "cells": [
  {
   "cell_type": "markdown",
   "id": "0742737e",
   "metadata": {},
   "source": [
    "A notebook for exploring the real market data:\n",
    "\n",
    "TODOs:\n",
    "- Calculate L(t) on S&P data over various 60 day horizons\n",
    "- Compare to figures from paper"
   ]
  },
  {
   "cell_type": "code",
   "execution_count": 1,
   "id": "8625ea71",
   "metadata": {},
   "outputs": [],
   "source": [
    "import csv\n",
    "import numpy as np"
   ]
  },
  {
   "cell_type": "code",
   "execution_count": 21,
   "id": "c6c0cc31",
   "metadata": {},
   "outputs": [
    {
     "data": {
      "text/plain": [
       "1"
      ]
     },
     "execution_count": 21,
     "metadata": {},
     "output_type": "execute_result"
    }
   ],
   "source": [
    "np.random.seed(1)\n",
    "actions = [0,1,2]\n",
    "p = [0.4,0.4,0.2]\n",
    "np.random.choice(actions, p=p)"
   ]
  },
  {
   "cell_type": "code",
   "execution_count": 16,
   "id": "8c81b03d",
   "metadata": {},
   "outputs": [],
   "source": [
    "np.random.seed(1)"
   ]
  },
  {
   "cell_type": "code",
   "execution_count": null,
   "id": "eafff46a",
   "metadata": {},
   "outputs": [],
   "source": []
  }
 ],
 "metadata": {
  "kernelspec": {
   "display_name": "Python 3",
   "language": "python",
   "name": "python3"
  },
  "language_info": {
   "codemirror_mode": {
    "name": "ipython",
    "version": 3
   },
   "file_extension": ".py",
   "mimetype": "text/x-python",
   "name": "python",
   "nbconvert_exporter": "python",
   "pygments_lexer": "ipython3",
   "version": "3.8.8"
  }
 },
 "nbformat": 4,
 "nbformat_minor": 5
}
