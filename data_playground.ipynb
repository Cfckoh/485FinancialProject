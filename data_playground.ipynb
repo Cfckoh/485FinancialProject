{
 "cells": [
  {
   "cell_type": "markdown",
   "id": "0742737e",
   "metadata": {},
   "source": [
    "A notebook for exploring the real market data:\n",
    "\n",
    "TODOs:\n",
    "- Calculate L(t) on S&P data over various 60 day horizons\n",
    "- Compare to figures from paper"
   ]
  },
  {
   "cell_type": "code",
   "execution_count": 6,
   "id": "8625ea71",
   "metadata": {},
   "outputs": [],
   "source": [
    "import csv\n",
    "import numpy as np\n",
    "import matplotlib.pyplot as plt\n",
    "from utility import calc_normalized_return, return_from_price\n"
   ]
  },
  {
   "cell_type": "code",
   "execution_count": 4,
   "id": "d1645ad8",
   "metadata": {},
   "outputs": [],
   "source": [
    "arr = np.loadtxt(\"data/Index_Data.csv\",\n",
    "                 delimiter=\",\", dtype=str)\n",
    "# get the returns in a float array\n",
    "closing_price = arr[7:,1].astype(np.float)\n",
    "returns = return_from_price(closing_price)\n",
    "norm_returns = calc_normalized_return(returns)"
   ]
  },
  {
   "cell_type": "code",
   "execution_count": null,
   "id": "0314311c",
   "metadata": {},
   "outputs": [],
   "source": []
  }
 ],
 "metadata": {
  "kernelspec": {
   "display_name": "Python 3",
   "language": "python",
   "name": "python3"
  },
  "language_info": {
   "codemirror_mode": {
    "name": "ipython",
    "version": 3
   },
   "file_extension": ".py",
   "mimetype": "text/x-python",
   "name": "python",
   "nbconvert_exporter": "python",
   "pygments_lexer": "ipython3",
   "version": "3.8.8"
  }
 },
 "nbformat": 4,
 "nbformat_minor": 5
}
