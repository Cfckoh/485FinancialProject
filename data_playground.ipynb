{
 "cells": [
  {
   "cell_type": "markdown",
   "id": "fe287426",
   "metadata": {},
   "source": [
    "A notebook for exploring the real market data:\n",
    "\n",
    "TODOs:\n",
    "- Calculate L(t) on S&P data over various 60 day horizons\n",
    "- Compare to figures from paper"
   ]
  },
  {
   "cell_type": "code",
   "execution_count": 1,
   "id": "c60124c5",
   "metadata": {},
   "outputs": [],
   "source": [
    "import csv\n",
    "import numpy as np"
   ]
  },
  {
   "cell_type": "code",
   "execution_count": null,
   "id": "96862d58",
   "metadata": {},
   "outputs": [],
   "source": []
  }
 ],
 "metadata": {
  "kernelspec": {
   "display_name": "Python 3",
   "language": "python",
   "name": "python3"
  },
  "language_info": {
   "codemirror_mode": {
    "name": "ipython",
    "version": 3
   },
   "file_extension": ".py",
   "mimetype": "text/x-python",
   "name": "python",
   "nbconvert_exporter": "python",
   "pygments_lexer": "ipython3",
   "version": "3.8.8"
  }
 },
 "nbformat": 4,
 "nbformat_minor": 5
}
